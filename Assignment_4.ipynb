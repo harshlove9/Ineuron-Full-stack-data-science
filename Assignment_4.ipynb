{
 "cells": [
  {
   "cell_type": "markdown",
   "id": "a437cbc6",
   "metadata": {},
   "source": [
    "# What exactly is [ ]?"
   ]
  },
  {
   "cell_type": "markdown",
   "id": "f9203724",
   "metadata": {},
   "source": [
    "empyt list"
   ]
  },
  {
   "cell_type": "markdown",
   "id": "6ea67961",
   "metadata": {},
   "source": [
    "# In a list of values stored in a variable called spam, how would you assign the value 'hello' as the third value? (Assume [2, 4, 6, 8, 10] are in spam.)"
   ]
  },
  {
   "cell_type": "markdown",
   "id": "5fe4d50c",
   "metadata": {},
   "source": [
    "spam[2]='hello'"
   ]
  },
  {
   "cell_type": "markdown",
   "id": "78b9f073",
   "metadata": {},
   "source": [
    "# Let's pretend the spam includes the list ['a','b','c',d'] for the next three queries. What is the value of spam[int(int('3'*2)//11)] ?"
   ]
  },
  {
   "cell_type": "code",
   "execution_count": 2,
   "id": "fb886e58",
   "metadata": {},
   "outputs": [
    {
     "name": "stdout",
     "output_type": "stream",
     "text": [
      "spam[int(int('3'*2)//11)] -> d\n"
     ]
    }
   ],
   "source": [
    "spam=['a','b','c','d']\n",
    "print(\"spam[int(int('3'*2)//11)] ->\",spam[int(int('3'*2)//11)])"
   ]
  },
  {
   "cell_type": "markdown",
   "id": "bb6314f7",
   "metadata": {},
   "source": [
    "# What is the value of spam[-1]?"
   ]
  },
  {
   "cell_type": "markdown",
   "id": "cbb8a4fa",
   "metadata": {},
   "source": [
    "'d'"
   ]
  },
  {
   "cell_type": "markdown",
   "id": "102d5db1",
   "metadata": {},
   "source": [
    "# What is the value of spam[:2]?"
   ]
  },
  {
   "cell_type": "markdown",
   "id": "087b0ddb",
   "metadata": {},
   "source": [
    "it returns all elements in the list spam from 0 to 2 excluding 2"
   ]
  },
  {
   "cell_type": "markdown",
   "id": "31b6386a",
   "metadata": {},
   "source": [
    "# Let's pretend bacon has the list [3.14,'cat',11,'cat',True] for the next three question What is the value of bacon.index('cat')?"
   ]
  },
  {
   "cell_type": "markdown",
   "id": "7b0cdb63",
   "metadata": {},
   "source": [
    "1 "
   ]
  },
  {
   "cell_type": "markdown",
   "id": "182c27a2",
   "metadata": {},
   "source": [
    "# How does bacon.append(99) change the look of the list value in bacon?"
   ]
  },
  {
   "cell_type": "code",
   "execution_count": 5,
   "id": "5c01290a",
   "metadata": {},
   "outputs": [
    {
     "name": "stdout",
     "output_type": "stream",
     "text": [
      "[3.14, 'cat', 11, 'cat', True, 99]\n"
     ]
    }
   ],
   "source": [
    "bacon=[3.14,'cat',11,'cat',True]\n",
    "bacon.append(99) \n",
    "print(bacon)"
   ]
  },
  {
   "cell_type": "markdown",
   "id": "aa8bde7b",
   "metadata": {},
   "source": [
    "# How does bacon.remove('cat') change the look of the list in bacon?"
   ]
  },
  {
   "cell_type": "code",
   "execution_count": 8,
   "id": "4ae7bc18",
   "metadata": {},
   "outputs": [
    {
     "name": "stdout",
     "output_type": "stream",
     "text": [
      "[3.14, 11, 'cat', True]\n"
     ]
    }
   ],
   "source": [
    "#The remove method removes the first occurence of the element in the list\n",
    "bacon=[3.14,'cat',11,'cat',True]\n",
    "bacon.remove('cat')\n",
    "print(bacon)"
   ]
  },
  {
   "cell_type": "markdown",
   "id": "5c0bee6b",
   "metadata": {},
   "source": [
    "# what are the list concatenation and list replication operations?"
   ]
  },
  {
   "cell_type": "code",
   "execution_count": 10,
   "id": "05987e4a",
   "metadata": {},
   "outputs": [
    {
     "name": "stdout",
     "output_type": "stream",
     "text": [
      "['ohoo', 'okay', 'hmm', 'oops', 'yuhi', 'welcome', 'noentry', 'dil pagal hai']\n",
      "['welcome', 'noentry', 'dil pagal hai', 'welcome', 'noentry', 'dil pagal hai']\n"
     ]
    }
   ],
   "source": [
    "list_1 = ['ohoo','okay','hmm','oops','yuhi']\n",
    "list_2 = ['welcome','noentry','dil pagal hai']\n",
    "print(list_1 + list_2) # List Concatenation\n",
    "print(list_2*2) # List Replication"
   ]
  },
  {
   "cell_type": "markdown",
   "id": "e3ec8b7f",
   "metadata": {},
   "source": [
    "# what is the difference between the list method append() and insert()?"
   ]
  },
  {
   "cell_type": "code",
   "execution_count": 20,
   "id": "90f0997d",
   "metadata": {},
   "outputs": [
    {
     "name": "stdout",
     "output_type": "stream",
     "text": [
      "[11, 22, 33, 44, 55, 66]\n",
      "[11, 22, 33, 44, 'harsh', 55, 66]\n"
     ]
    }
   ],
   "source": [
    "#append() will add values only to the end of a list, insert() can add them anywhere in the list.\n",
    "\n",
    "\n",
    "list = [11,22,33,44,55]\n",
    "list.append(66)\n",
    "print(list)\n",
    "list.insert(4,'harsh')\n",
    "print(list)"
   ]
  },
  {
   "cell_type": "markdown",
   "id": "90dd856b",
   "metadata": {},
   "source": [
    "# What are the two methods for removing items from a list?"
   ]
  },
  {
   "cell_type": "markdown",
   "id": "1d73c6a6",
   "metadata": {},
   "source": [
    "del & remove"
   ]
  },
  {
   "cell_type": "markdown",
   "id": "0aa50dd0",
   "metadata": {},
   "source": [
    "# Describe how list values and string values are identical"
   ]
  },
  {
   "cell_type": "markdown",
   "id": "c53bdea3",
   "metadata": {},
   "source": [
    "#Both lists and strings can be passed to len() function, have indexes and slices, be used in for loops, be concatenated or replicated, and be used with the in and not in operators."
   ]
  },
  {
   "cell_type": "markdown",
   "id": "51be5ab1",
   "metadata": {},
   "source": [
    "# What's the difference between tuples and lists?"
   ]
  },
  {
   "cell_type": "markdown",
   "id": "4704db6e",
   "metadata": {},
   "source": [
    "Lists are Mutable, Indexable and Slicable. they can have values added, removed, or changed.\n",
    "\n",
    "lists are represented using []\n",
    "\n",
    "\n",
    "Tuples are Immutable but Indexable and Slicable\n",
    "\n",
    "Tuples values cannot be changed at all.\n",
    "\n",
    "Tuples are represented using () "
   ]
  },
  {
   "cell_type": "markdown",
   "id": "750dd553",
   "metadata": {},
   "source": [
    "# # How do you type a tuple value that only contains the integer 42?"
   ]
  },
  {
   "cell_type": "code",
   "execution_count": 22,
   "id": "d0f61da7",
   "metadata": {},
   "outputs": [
    {
     "name": "stdout",
     "output_type": "stream",
     "text": [
      "<class 'int'>\n",
      "<class 'tuple'>\n"
     ]
    }
   ],
   "source": [
    "#(42,)--> comma compulsory\n",
    "tup1=(42)\n",
    "tup2=(42,)\n",
    "print(type(tup1))\n",
    "print(type(tup2))"
   ]
  },
  {
   "cell_type": "markdown",
   "id": "a54e0040",
   "metadata": {},
   "source": [
    "# How do you get a list value's tuple form? How do you get a tuple value's list form?"
   ]
  },
  {
   "cell_type": "markdown",
   "id": "f1eea6c5",
   "metadata": {},
   "source": [
    " The tuple() and list() functions, respectively are used to convert a list to tuple and vice versa\n",
    "\n"
   ]
  },
  {
   "cell_type": "markdown",
   "id": "38ae4b1f",
   "metadata": {},
   "source": [
    "# Variables that \"contain\" list values are not necessarily lists themselves. Instead, what do they contain?"
   ]
  },
  {
   "cell_type": "markdown",
   "id": "148647df",
   "metadata": {},
   "source": [
    "They contain references to list values."
   ]
  },
  {
   "cell_type": "markdown",
   "id": "b2a3ff6e",
   "metadata": {},
   "source": [
    "#  How do you distinguish between copy.copy() and copy.deepcopy()?"
   ]
  },
  {
   "cell_type": "code",
   "execution_count": 24,
   "id": "606264fc",
   "metadata": {},
   "outputs": [],
   "source": [
    "#The copy.copy() function -> shallow copy of a list.\n",
    " #the copy.deepcopy() function-> deep copy of a list and duplicate any lists inside the list."
   ]
  }
 ],
 "metadata": {
  "kernelspec": {
   "display_name": "Python 3 (ipykernel)",
   "language": "python",
   "name": "python3"
  },
  "language_info": {
   "codemirror_mode": {
    "name": "ipython",
    "version": 3
   },
   "file_extension": ".py",
   "mimetype": "text/x-python",
   "name": "python",
   "nbconvert_exporter": "python",
   "pygments_lexer": "ipython3",
   "version": "3.9.7"
  }
 },
 "nbformat": 4,
 "nbformat_minor": 5
}
