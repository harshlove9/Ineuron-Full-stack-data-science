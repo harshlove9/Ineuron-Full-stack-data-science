{
 "cells": [
  {
   "cell_type": "markdown",
   "id": "449b48db",
   "metadata": {},
   "source": [
    "# Write a Python program to convert kilometers to miles?"
   ]
  },
  {
   "cell_type": "code",
   "execution_count": 3,
   "id": "266998e4",
   "metadata": {},
   "outputs": [
    {
     "name": "stdout",
     "output_type": "stream",
     "text": [
      "enter the speed of car in Kilometre unit: 10\n",
      "The speed value of car in Miles is :  6.21371\n"
     ]
    }
   ],
   "source": [
    "kilometre = float (input (\"enter the speed of car in Kilometre unit: \"))  \n",
    "\n",
    "#  formula che\n",
    "conversion_ratio = 0.621371  \n",
    "\n",
    "miles = kilometre * conversion_ratio\n",
    "\n",
    "print (\"The speed value of car in Miles is : \", miles)   "
   ]
  },
  {
   "cell_type": "markdown",
   "id": "1534fb70",
   "metadata": {},
   "source": [
    "# Write a Python program to convert Celsius to Fahrenheit?"
   ]
  },
  {
   "cell_type": "code",
   "execution_count": 18,
   "id": "65b3a271",
   "metadata": {},
   "outputs": [
    {
     "name": "stdout",
     "output_type": "stream",
     "text": [
      "Enter Temperature value in Celsius: 24\n",
      "The 24.00 degree Celsius is equal to: 75.20 Fahrenheit\n"
     ]
    }
   ],
   "source": [
    "celsius = float(input(\"Enter Temperature value in Celsius: \" ))  \n",
    "\n",
    "#  formula che\n",
    "Fahrenheit = (celsius * 1.8) + 32  \n",
    "    \n",
    "print('The %.2f degree Celsius is equal to: %.2f Fahrenheit' %(celsius, Fahrenheit))"
   ]
  },
  {
   "cell_type": "markdown",
   "id": "34c8b338",
   "metadata": {},
   "source": [
    "# Write a Python program to display calendar?"
   ]
  },
  {
   "cell_type": "code",
   "execution_count": 20,
   "id": "39cf294f",
   "metadata": {},
   "outputs": [
    {
     "name": "stdout",
     "output_type": "stream",
     "text": [
      "Enter Year : 2011\n",
      "Enter Month : 4\n",
      "     April 2011\n",
      "Mo Tu We Th Fr Sa Su\n",
      "             1  2  3\n",
      " 4  5  6  7  8  9 10\n",
      "11 12 13 14 15 16 17\n",
      "18 19 20 21 22 23 24\n",
      "25 26 27 28 29 30\n",
      "\n"
     ]
    }
   ],
   "source": [
    "import calendar\n",
    "\n",
    "year = int(input(\"Enter Year : \"))\n",
    "month = int(input(\"Enter Month : \"))\n",
    "\n",
    "print(calendar.month(year,month))\n"
   ]
  },
  {
   "cell_type": "markdown",
   "id": "bf440d1f",
   "metadata": {},
   "source": [
    "# Write a Python program to solve quadratic equation?"
   ]
  },
  {
   "cell_type": "code",
   "execution_count": 16,
   "id": "19546f5e",
   "metadata": {},
   "outputs": [
    {
     "name": "stdout",
     "output_type": "stream",
     "text": [
      "Enter value of a: 7\n",
      "Enter value of b: 3\n",
      "Enter value of c: 2\n",
      "The solution are (-0.21428571428571427-0.48968961431436026j) and (-0.21428571428571427+0.48968961431436026j)\n"
     ]
    }
   ],
   "source": [
    "# Complex equation mate\n",
    "import cmath\n",
    "\n",
    "\n",
    "a = float(input('Enter value of a: '))  \n",
    "b = float(input('Enter value of b: '))  \n",
    "c = float(input('Enter value of c: '))  \n",
    "  \n",
    "# calculate mate \n",
    "d = (b**2) - (4*a*c)  \n",
    "  \n",
    "# answer mate \n",
    "him_1 = (-b-cmath.sqrt(d))/(2*a)  \n",
    "him_2 = (-b+cmath.sqrt(d))/(2*a)  \n",
    "\n",
    "\n",
    "print('The solution are {0} and {1}'.format(him_1,him_2))   "
   ]
  },
  {
   "cell_type": "markdown",
   "id": "62123c67",
   "metadata": {},
   "source": [
    "# Write a Python program to swap two variables without temp variable?"
   ]
  },
  {
   "cell_type": "code",
   "execution_count": 17,
   "id": "9e8412c8",
   "metadata": {},
   "outputs": [
    {
     "name": "stdout",
     "output_type": "stream",
     "text": [
      "after swap value of h is: 2\n",
      "after swap value of k is: 34\n"
     ]
    }
   ],
   "source": [
    "h= 34\n",
    "k= 2\n",
    "\n",
    "# without using temp variable\n",
    "\n",
    "h, k = k, h\n",
    "\n",
    "# after swaping\n",
    "\n",
    "print(\"after swap value of h is:\", h)\n",
    "print(\"after swap value of k is:\", k)\n"
   ]
  }
 ],
 "metadata": {
  "kernelspec": {
   "display_name": "Python 3 (ipykernel)",
   "language": "python",
   "name": "python3"
  },
  "language_info": {
   "codemirror_mode": {
    "name": "ipython",
    "version": 3
   },
   "file_extension": ".py",
   "mimetype": "text/x-python",
   "name": "python",
   "nbconvert_exporter": "python",
   "pygments_lexer": "ipython3",
   "version": "3.9.7"
  }
 },
 "nbformat": 4,
 "nbformat_minor": 5
}
