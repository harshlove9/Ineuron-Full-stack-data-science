{
 "cells": [
  {
   "cell_type": "markdown",
   "id": "c35a2b30",
   "metadata": {},
   "source": [
    "# 1.\tWrite a Python program to print \"Hello Python\"?"
   ]
  },
  {
   "cell_type": "code",
   "execution_count": 1,
   "id": "ca84ab65",
   "metadata": {},
   "outputs": [
    {
     "name": "stdout",
     "output_type": "stream",
     "text": [
      "Hello Python\n"
     ]
    }
   ],
   "source": [
    "print(\"Hello Python\")"
   ]
  },
  {
   "cell_type": "markdown",
   "id": "76adc527",
   "metadata": {},
   "source": [
    "# 2.\tWrite a Python program to do arithmetical operations addition and division."
   ]
  },
  {
   "cell_type": "markdown",
   "id": "a6a1df4f",
   "metadata": {},
   "source": [
    "#  addition "
   ]
  },
  {
   "cell_type": "code",
   "execution_count": 2,
   "id": "0451de3b",
   "metadata": {},
   "outputs": [
    {
     "name": "stdout",
     "output_type": "stream",
     "text": [
      "11\n"
     ]
    }
   ],
   "source": [
    "a = 5\n",
    "b = 6\n",
    "\n",
    "c = a+b\n",
    "print(c)"
   ]
  },
  {
   "cell_type": "markdown",
   "id": "72525195",
   "metadata": {},
   "source": [
    "# division"
   ]
  },
  {
   "cell_type": "code",
   "execution_count": 3,
   "id": "fb78d932",
   "metadata": {},
   "outputs": [
    {
     "name": "stdout",
     "output_type": "stream",
     "text": [
      "2.0\n"
     ]
    }
   ],
   "source": [
    "a = 4\n",
    "b=  2\n",
    "\n",
    "c = a/b\n",
    "\n",
    "print(c)"
   ]
  },
  {
   "cell_type": "markdown",
   "id": "347db778",
   "metadata": {},
   "source": [
    "# 3.\tWrite a Python program to find the area of a triangle?"
   ]
  },
  {
   "cell_type": "code",
   "execution_count": 4,
   "id": "f1844442",
   "metadata": {},
   "outputs": [
    {
     "name": "stdout",
     "output_type": "stream",
     "text": [
      "Input the base: 30\n",
      "Input the height: 50\n",
      "Area of traingle is: 750.0\n"
     ]
    }
   ],
   "source": [
    "b = int(input(\"Input the base: \"))\n",
    "h = int(input(\"Input the height: \"))\n",
    "\n",
    "area = b*h/2\n",
    "\n",
    "print(\"Area of traingle is:\", area)\n"
   ]
  },
  {
   "cell_type": "markdown",
   "id": "c8fa5034",
   "metadata": {},
   "source": [
    "# 4.\tWrite a Python program to swap two variables?"
   ]
  },
  {
   "cell_type": "code",
   "execution_count": 8,
   "id": "f93e603a",
   "metadata": {},
   "outputs": [
    {
     "name": "stdout",
     "output_type": "stream",
     "text": [
      "after swap value of x is: 15\n",
      "after swap value of y is: 50\n"
     ]
    }
   ],
   "source": [
    "x= 50\n",
    "y= 15\n",
    "\n",
    "# using temp variable\n",
    "\n",
    "temp = x\n",
    "x=y\n",
    "y=temp\n",
    "\n",
    "# after swaping\n",
    "\n",
    "print(\"after swap value of x is:\", x)\n",
    "print(\"after swap value of y is:\", y)\n",
    "\n"
   ]
  },
  {
   "cell_type": "code",
   "execution_count": 10,
   "id": "52993dc0",
   "metadata": {},
   "outputs": [
    {
     "name": "stdout",
     "output_type": "stream",
     "text": [
      "after swap value of x is: 10\n",
      "after swap value of y is: 500\n"
     ]
    }
   ],
   "source": [
    "x= 500\n",
    "y= 10\n",
    "\n",
    "# without using third variable\n",
    "\n",
    "x, y = y, x\n",
    "\n",
    "# after swaping\n",
    "\n",
    "print(\"after swap value of x is:\", x)\n",
    "print(\"after swap value of y is:\", y)\n",
    "\n",
    "\n"
   ]
  },
  {
   "cell_type": "markdown",
   "id": "1a50ddbd",
   "metadata": {},
   "source": [
    "# 5.\tWrite a Python program to generate a random number?"
   ]
  },
  {
   "cell_type": "code",
   "execution_count": 14,
   "id": "e5579ac5",
   "metadata": {},
   "outputs": [
    {
     "name": "stdout",
     "output_type": "stream",
     "text": [
      "9\n"
     ]
    }
   ],
   "source": [
    "import random\n",
    "\n",
    "# randint -> range ma integer batave\n",
    "\n",
    "h=random.randint(0,15)\n",
    "\n",
    "print(h)"
   ]
  },
  {
   "cell_type": "code",
   "execution_count": 17,
   "id": "de225f81",
   "metadata": {},
   "outputs": [
    {
     "name": "stdout",
     "output_type": "stream",
     "text": [
      "0.5289672567056221\n"
     ]
    }
   ],
   "source": [
    "import random\n",
    "\n",
    "# ahiya  single random number che je 0&1 ne range ma  float number ape\n",
    "\n",
    "k= random.random()\n",
    "\n",
    "print(k)"
   ]
  }
 ],
 "metadata": {
  "kernelspec": {
   "display_name": "Python 3 (ipykernel)",
   "language": "python",
   "name": "python3"
  },
  "language_info": {
   "codemirror_mode": {
    "name": "ipython",
    "version": 3
   },
   "file_extension": ".py",
   "mimetype": "text/x-python",
   "name": "python",
   "nbconvert_exporter": "python",
   "pygments_lexer": "ipython3",
   "version": "3.9.7"
  }
 },
 "nbformat": 4,
 "nbformat_minor": 5
}
