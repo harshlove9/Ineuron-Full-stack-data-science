{
 "cells": [
  {
   "cell_type": "markdown",
   "id": "b31506e2",
   "metadata": {},
   "source": [
    "# 1. Write a Python Program to Find LCM?"
   ]
  },
  {
   "cell_type": "code",
   "execution_count": 2,
   "id": "9fe979c9",
   "metadata": {},
   "outputs": [
    {
     "name": "stdout",
     "output_type": "stream",
     "text": [
      "Enter first number: 9\n",
      "Enter second number: 7\n",
      "L.C.M. of 9 and 7 is 63\n"
     ]
    }
   ],
   "source": [
    "def lcm(x, y):  \n",
    "    \n",
    "    if x > y:  \n",
    "        greater = x  \n",
    "    else:  \n",
    "        greater = y  \n",
    "    while(True):  \n",
    "        if((greater % x == 0) and (greater % y == 0)):  \n",
    "            lcm = greater  \n",
    "            break  \n",
    "        greater += 1  \n",
    "    return lcm    \n",
    "  \n",
    "\n",
    "num1 = int(input(\"Enter first number: \"))  \n",
    "num2 = int(input(\"Enter second number: \")) \n",
    "\n",
    "\n",
    "\n",
    "print(\"L.C.M. of\", num1,\"and\", num2,\"is\", lcm(num1, num2))  "
   ]
  },
  {
   "cell_type": "markdown",
   "id": "cf9169c8",
   "metadata": {},
   "source": [
    "# 2. Write a Python Program to Find HCF?"
   ]
  },
  {
   "cell_type": "code",
   "execution_count": 5,
   "id": "ddc93404",
   "metadata": {},
   "outputs": [
    {
     "name": "stdout",
     "output_type": "stream",
     "text": [
      "Enter first number: 9\n",
      "Enter second number: 2\n",
      "The H.C.F. of 9 and 2 is 1\n"
     ]
    }
   ],
   "source": [
    "def hcf(x, y):  \n",
    "   \n",
    "    if x > y:  \n",
    "        smaller = y  \n",
    "    else:  \n",
    "        smaller = x  \n",
    "    for i in range(1,smaller + 1):  \n",
    "        if((x % i == 0) and (y % i == 0)):  \n",
    "            hcf = i  \n",
    "    return hcf  \n",
    "  \n",
    "\n",
    "sop1 = int(input(\"Enter first number: \"))  \n",
    "sop2 = int(input(\"Enter second number: \"))  \n",
    " \n",
    "print(\"The H.C.F. of\", sop1,\"and\", sop2,\"is\",hcf(sop1, sop2))"
   ]
  },
  {
   "cell_type": "markdown",
   "id": "559664de",
   "metadata": {},
   "source": [
    "# 3. Write a Python Program to Convert Decimal to Binary, Octal and Hexadecimal?"
   ]
  },
  {
   "cell_type": "code",
   "execution_count": 9,
   "id": "587c5141",
   "metadata": {},
   "outputs": [
    {
     "name": "stdout",
     "output_type": "stream",
     "text": [
      "The decimal value of 891 is:\n",
      "0b1101111011 in binary.\n",
      "0o1573 in octal.\n",
      "0x37b in hexadecimal.\n"
     ]
    }
   ],
   "source": [
    "# Python program to convert decimal into other number systems\n",
    "ohoo = 891\n",
    "\n",
    "print(\"The decimal value of\", ohoo, \"is:\")\n",
    "print(bin(ohoo), \"in binary.\")\n",
    "print(oct(ohoo), \"in octal.\")\n",
    "print(hex(ohoo), \"in hexadecimal.\")\n"
   ]
  },
  {
   "cell_type": "markdown",
   "id": "e4427572",
   "metadata": {},
   "source": [
    "# 4. Write a Python Program To Find ASCII value of a character?"
   ]
  },
  {
   "cell_type": "code",
   "execution_count": 14,
   "id": "c1c62d89",
   "metadata": {},
   "outputs": [
    {
     "name": "stdout",
     "output_type": "stream",
     "text": [
      "The ASCII value of h is:  104\n"
     ]
    }
   ],
   "source": [
    "hmm = 'h'\n",
    "print(\"The ASCII value of \" + hmm + \" is: \", ord(hmm))\n"
   ]
  },
  {
   "cell_type": "markdown",
   "id": "f8051d71",
   "metadata": {},
   "source": [
    "# 5. Write a Python Program to Make a Simple Calculator with 4 basic mathematical operations?"
   ]
  },
  {
   "cell_type": "code",
   "execution_count": 5,
   "id": "e3a20e13",
   "metadata": {},
   "outputs": [
    {
     "name": "stdout",
     "output_type": "stream",
     "text": [
      "Please select the operation:\n",
      "a. Add\n",
      "b. Subtract\n",
      "c. Multiply\n",
      "d. Divide\n",
      "Please enter choice (a/ b/ c/ d): c\n",
      "Please enter the first number: 7\n",
      "Please enter the second number: 4\n",
      "7  *  4  =  28\n"
     ]
    }
   ],
   "source": [
    "def add(P, Q):    \n",
    "   \n",
    "   return P + Q   \n",
    "\n",
    "def subtract(P, Q):   \n",
    "   \n",
    "   return P - Q  \n",
    "\n",
    "def multiply(P, Q):   \n",
    "  \n",
    "   return P * Q   \n",
    "\n",
    "def divide(P, Q):   \n",
    "      \n",
    "    return P / Q    \n",
    "\n",
    "\n",
    "print (\"Please select the operation:\")    \n",
    "print (\"a. Add\")    \n",
    "print (\"b. Subtract\")    \n",
    "print (\"c. Multiply\")    \n",
    "print (\"d. Divide\")    \n",
    "    \n",
    "choice = input(\"Please enter choice (a/ b/ c/ d): \")    \n",
    "    \n",
    "num_1 = int (input (\"Please enter the first number: \"))    \n",
    "num_2 = int (input (\"Please enter the second number: \"))    \n",
    "    \n",
    "if choice == 'a':    \n",
    "   print (num_1, \" + \", num_2, \" = \", add(num_1, num_2))    \n",
    "    \n",
    "elif choice == 'b':    \n",
    "   print (num_1, \" - \", num_2, \" = \", subtract(num_1, num_2))    \n",
    "    \n",
    "elif choice == 'c':    \n",
    "   print (num_1, \" * \", num_2, \" = \", multiply(num_1, num_2))    \n",
    "elif choice == 'd':    \n",
    "   print (num_1, \" / \", num_2, \" = \", divide(num_1, num_2))    \n",
    "else:    \n",
    "   print (\"This is an invalid input\")    \n"
   ]
  }
 ],
 "metadata": {
  "kernelspec": {
   "display_name": "Python 3 (ipykernel)",
   "language": "python",
   "name": "python3"
  },
  "language_info": {
   "codemirror_mode": {
    "name": "ipython",
    "version": 3
   },
   "file_extension": ".py",
   "mimetype": "text/x-python",
   "name": "python",
   "nbconvert_exporter": "python",
   "pygments_lexer": "ipython3",
   "version": "3.9.7"
  }
 },
 "nbformat": 4,
 "nbformat_minor": 5
}
