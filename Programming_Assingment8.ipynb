{
 "cells": [
  {
   "cell_type": "markdown",
   "id": "dc088280",
   "metadata": {},
   "source": [
    "# Write a Python Program to Add Two Matrices?"
   ]
  },
  {
   "cell_type": "code",
   "execution_count": 1,
   "id": "4f5dec34",
   "metadata": {},
   "outputs": [
    {
     "name": "stdout",
     "output_type": "stream",
     "text": [
      "[6, 63, 4]\n",
      "[10, 12, 46]\n",
      "[11, 13, 99]\n"
     ]
    }
   ],
   "source": [
    "\n",
    "X = [[1,7,3],\n",
    "    [4 ,5,16],\n",
    "    [7 ,8,9]]\n",
    "\n",
    "Y = [[5,56,1],\n",
    "    [6,7,30],\n",
    "    [4,5,90]]\n",
    "\n",
    "result = [[0,0,0],\n",
    "         [0,0,0],\n",
    "         [0,0,0]]\n",
    "\n",
    "\n",
    "for i in range(len(X)):\n",
    " \n",
    "   for j in range(len(X[0])):\n",
    "       result[i][j] = X[i][j] + Y[i][j]\n",
    "\n",
    "for r in result:\n",
    "   print(r)"
   ]
  },
  {
   "cell_type": "markdown",
   "id": "46306ff0",
   "metadata": {},
   "source": [
    "# Write a Python Program to Multiply Two Matrices"
   ]
  },
  {
   "cell_type": "code",
   "execution_count": 3,
   "id": "1d5d00e6",
   "metadata": {},
   "outputs": [
    {
     "name": "stdout",
     "output_type": "stream",
     "text": [
      "[37, 43, 59, 0]\n",
      "[34, 58, 62, 0]\n",
      "[58, 92, 103, 0]\n"
     ]
    }
   ],
   "source": [
    "A = [[5, 4, 3],  \n",
    "     [2, 4, 6],  \n",
    "     [4, 7, 9]]    \n",
    "B = [[3, 2, 4],  \n",
    "     [4, 3, 6],  \n",
    "     [2, 7, 5]]  \n",
    "\n",
    "result = [[0,0,0,0],\n",
    "         [0,0,0,0],\n",
    "         [0,0,0,0]]\n",
    "\n",
    "\n",
    "for i in range(len(A)):\n",
    "  \n",
    "   for j in range(len(B[0])):\n",
    "      \n",
    "       for k in range(len(Y)):\n",
    "           result[i][j] += A[i][k] * B[k][j]\n",
    "\n",
    "for r in result:\n",
    "   print(r)"
   ]
  },
  {
   "cell_type": "markdown",
   "id": "cd96e469",
   "metadata": {},
   "source": [
    "# Write a Python Program to Transpose a Matrix?"
   ]
  },
  {
   "cell_type": "code",
   "execution_count": 4,
   "id": "04370aba",
   "metadata": {},
   "outputs": [
    {
     "name": "stdout",
     "output_type": "stream",
     "text": [
      "[10, 47, 30]\n",
      "[70, 56, 80]\n"
     ]
    }
   ],
   "source": [
    "\n",
    "H = [[10,70],\n",
    "    [47 ,56],\n",
    "    [30 ,80]]\n",
    "\n",
    "result = [[H[j][i] for j in range(len(H))] for i in range(len(H[0]))]\n",
    "\n",
    "for t in result:\n",
    "   print(t)"
   ]
  },
  {
   "cell_type": "markdown",
   "id": "c88c23a2",
   "metadata": {},
   "source": [
    "# Write a Python Program to Sort Words in Alphabetic Order?"
   ]
  },
  {
   "cell_type": "code",
   "execution_count": 7,
   "id": "40d9a73d",
   "metadata": {},
   "outputs": [
    {
     "name": "stdout",
     "output_type": "stream",
     "text": [
      "Enter a string: i love india\n",
      "i\n",
      "india\n",
      "love\n"
     ]
    }
   ],
   "source": [
    "my_str = input(\"Enter a string: \")  \n",
    "  \n",
    "words = my_str.split()  \n",
    "\n",
    "\n",
    "words.sort()  \n",
    "\n",
    "\n",
    "for i in words:  \n",
    "   print(i) "
   ]
  },
  {
   "cell_type": "markdown",
   "id": "eee803a3",
   "metadata": {},
   "source": [
    "# Write a Python Program to Remove Punctuation From a String?\n"
   ]
  },
  {
   "cell_type": "code",
   "execution_count": 1,
   "id": "7dabde2d",
   "metadata": {},
   "outputs": [
    {
     "name": "stdout",
     "output_type": "stream",
     "text": [
      "Enter a string: hahaha--lol--$ohoo\n",
      "hahahalolohoo\n"
     ]
    }
   ],
   "source": [
    "punctuation = '''''!()-[]{};:'\"\\,<>./?@#$%^&*_~'''  \n",
    "\n",
    "my_str = input(\"Enter a string: \")  \n",
    "  \n",
    "no_punct = \"\" \n",
    "\n",
    "for char in my_str:  \n",
    "   if char not in punctuation:  \n",
    "       no_punct = no_punct + char  \n",
    "\n",
    "print(no_punct)  "
   ]
  }
 ],
 "metadata": {
  "kernelspec": {
   "display_name": "Python 3 (ipykernel)",
   "language": "python",
   "name": "python3"
  },
  "language_info": {
   "codemirror_mode": {
    "name": "ipython",
    "version": 3
   },
   "file_extension": ".py",
   "mimetype": "text/x-python",
   "name": "python",
   "nbconvert_exporter": "python",
   "pygments_lexer": "ipython3",
   "version": "3.9.7"
  }
 },
 "nbformat": 4,
 "nbformat_minor": 5
}
