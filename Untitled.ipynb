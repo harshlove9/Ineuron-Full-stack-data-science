{
 "cells": [
  {
   "cell_type": "code",
   "execution_count": 8,
   "id": "824d745c",
   "metadata": {},
   "outputs": [
    {
     "name": "stdout",
     "output_type": "stream",
     "text": [
      "This is prime\n"
     ]
    }
   ],
   "source": [
    "num = 11\n",
    "\n",
    "for i in range(2,num):\n",
    "    if num % i ==0:\n",
    "        print(\"this is not prime\")\n",
    "        break\n",
    "else:\n",
    "    print(\"This is prime\")\n",
    "    "
   ]
  },
  {
   "cell_type": "code",
   "execution_count": null,
   "id": "84d0d58a",
   "metadata": {},
   "outputs": [],
   "source": [
    "lower_value = int(input (\" Enter the Lowest Range Value: \"))  \n",
    "upper_value = int(input (\" Enter the Upper Range Value: \"))  \n",
    "  \n",
    "print (\"The Prime Numbers are: \")  \n",
    "\n",
    "for number in range (lower_value, upper_value + 1):  \n",
    "    if number > 1:  \n",
    "        for i in range (2, number):  \n",
    "            if (number % i) == 0:  \n",
    "                break  \n",
    "        else:  \n",
    "            print (number)  "
   ]
  }
 ],
 "metadata": {
  "kernelspec": {
   "display_name": "Python 3 (ipykernel)",
   "language": "python",
   "name": "python3"
  },
  "language_info": {
   "codemirror_mode": {
    "name": "ipython",
    "version": 3
   },
   "file_extension": ".py",
   "mimetype": "text/x-python",
   "name": "python",
   "nbconvert_exporter": "python",
   "pygments_lexer": "ipython3",
   "version": "3.9.7"
  }
 },
 "nbformat": 4,
 "nbformat_minor": 5
}
