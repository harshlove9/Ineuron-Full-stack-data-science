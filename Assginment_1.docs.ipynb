{
 "cells": [
  {
   "cell_type": "markdown",
   "id": "882d3936",
   "metadata": {},
   "source": [
    "# In the below elements which of them are values or an expression? eg:- values can be integer or string and expressions will be mathematical operators."
   ]
  },
  {
   "cell_type": "raw",
   "id": "1b4b4e84",
   "metadata": {},
   "source": [
    "# Operators: *,-,/,+\n",
    "Expressions: 'hello', 87.8, 6"
   ]
  },
  {
   "cell_type": "markdown",
   "id": "4d252ab5",
   "metadata": {},
   "source": [
    "# What is the difference between string and variable?"
   ]
  },
  {
   "cell_type": "raw",
   "id": "f4ff8ec6",
   "metadata": {},
   "source": [
    "harsh_shah = \"trying to improve myself\"\n",
    "\n",
    "here harsh_shah -> variable\n",
    "    \"trying to improve myself\" -> string"
   ]
  },
  {
   "cell_type": "markdown",
   "id": "34c017d5",
   "metadata": {},
   "source": [
    "# Describe three different data types."
   ]
  },
  {
   "cell_type": "raw",
   "id": "2fe561c1",
   "metadata": {},
   "source": [
    "x = \"Hi\" -> string\n",
    "\n",
    "a = 20  -> int\n",
    "b = 20.5 -> float\n",
    "c = 1j -> complex"
   ]
  },
  {
   "cell_type": "markdown",
   "id": "f7f867dd",
   "metadata": {},
   "source": [
    "# What is an expression made up of? What do all expressions do?\n"
   ]
  },
  {
   "cell_type": "raw",
   "id": "222c6312",
   "metadata": {},
   "source": [
    "expression is a combination of values, variables, operators and many more. All expressions evaluates to a single value.\n"
   ]
  },
  {
   "cell_type": "markdown",
   "id": "d0dffb33",
   "metadata": {},
   "source": [
    "# This assignment statements, like spam = 10. What is the difference between an expression and a statement?"
   ]
  },
  {
   "cell_type": "raw",
   "id": "7f3b749d",
   "metadata": {},
   "source": [
    " spam is  integer value of 10.\n",
    "Whereas as an expression is the combination of operators and operands."
   ]
  },
  {
   "cell_type": "markdown",
   "id": "c5eb0f1c",
   "metadata": {},
   "source": [
    "# After running the following code, what does the variable bacon contain?bacon = 22 bacon + 1"
   ]
  },
  {
   "cell_type": "raw",
   "id": "6cf6fa8c",
   "metadata": {},
   "source": [
    "output is 22 .The expression bacon + 1 does not reassign the value in bacon"
   ]
  },
  {
   "cell_type": "markdown",
   "id": "171912a9",
   "metadata": {},
   "source": [
    "#  What should the values of the following two terms be?'spam' + 'spamspam''spam' * 3"
   ]
  },
  {
   "cell_type": "code",
   "execution_count": 1,
   "id": "0b46b410",
   "metadata": {},
   "outputs": [
    {
     "name": "stdout",
     "output_type": "stream",
     "text": [
      "spamspamspam\n"
     ]
    }
   ],
   "source": [
    "oho = 'spam' + 'spamspam'\n",
    "print(oho)"
   ]
  },
  {
   "cell_type": "code",
   "execution_count": 2,
   "id": "6567c698",
   "metadata": {},
   "outputs": [
    {
     "name": "stdout",
     "output_type": "stream",
     "text": [
      "spamspamspam\n"
     ]
    }
   ],
   "source": [
    "hmm = 'spam'*3\n",
    "print(hmm)"
   ]
  },
  {
   "cell_type": "markdown",
   "id": "5e6a1f47",
   "metadata": {},
   "source": [
    "# Why is eggs a valid variable name while 100 is invalid?"
   ]
  },
  {
   "cell_type": "raw",
   "id": "b58b3fee",
   "metadata": {},
   "source": [
    "As per python,Variable names cannot begin with a number.\n",
    "\n",
    "Variable name must start with a letter or the underscore character.\n",
    "Variable name cannot start with a number.\n",
    "Variable name can only contain alpha-numeric characters and underscores "
   ]
  },
  {
   "cell_type": "markdown",
   "id": "89b4e6d0",
   "metadata": {},
   "source": [
    "# What three functions can be used to get the integer,floating-point number,or string version of a value?"
   ]
  },
  {
   "cell_type": "raw",
   "id": "565f5f66",
   "metadata": {},
   "source": [
    "integer->int()\n",
    "floating-point -> float()\n",
    "string -> str()"
   ]
  },
  {
   "cell_type": "markdown",
   "id": "d321377c",
   "metadata": {},
   "source": [
    "# 10. Why does this expression cause an error? How can you fix it?            &#39;I have eaten &#39; + 99 + &#39; burritos.&#39;"
   ]
  },
  {
   "cell_type": "code",
   "execution_count": null,
   "id": "46f57aff",
   "metadata": {},
   "outputs": [],
   "source": [
    "'I have eaten ' + 99 + ' burritos.' -> here 99 is integer value"
   ]
  },
  {
   "cell_type": "code",
   "execution_count": 4,
   "id": "8da10015",
   "metadata": {},
   "outputs": [
    {
     "name": "stdout",
     "output_type": "stream",
     "text": [
      "i have eaten 99 burritos\n"
     ]
    }
   ],
   "source": [
    "okay = 'i have eaten' + ' 99' + ' burritos'\n",
    "print(okay)"
   ]
  }
 ],
 "metadata": {
  "kernelspec": {
   "display_name": "Python 3 (ipykernel)",
   "language": "python",
   "name": "python3"
  },
  "language_info": {
   "codemirror_mode": {
    "name": "ipython",
    "version": 3
   },
   "file_extension": ".py",
   "mimetype": "text/x-python",
   "name": "python",
   "nbconvert_exporter": "python",
   "pygments_lexer": "ipython3",
   "version": "3.9.7"
  }
 },
 "nbformat": 4,
 "nbformat_minor": 5
}
