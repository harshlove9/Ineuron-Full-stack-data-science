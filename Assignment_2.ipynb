{
 "cells": [
  {
   "cell_type": "markdown",
   "id": "e9e8f556",
   "metadata": {},
   "source": [
    "# What are the two values of the Boolean data type? How do you write them?"
   ]
  },
  {
   "cell_type": "markdown",
   "id": "1fb3f523",
   "metadata": {},
   "source": [
    "Boolean data type in python -> 1.True 2.False"
   ]
  },
  {
   "cell_type": "code",
   "execution_count": 2,
   "id": "d9b276ea",
   "metadata": {},
   "outputs": [
    {
     "name": "stdout",
     "output_type": "stream",
     "text": [
      "True\n",
      "False\n"
     ]
    }
   ],
   "source": [
    "h='India'\n",
    "\n",
    "k = (1>9)\n",
    "\n",
    "print(bool(h))\n",
    "print(bool(k))"
   ]
  },
  {
   "cell_type": "markdown",
   "id": "cb772d08",
   "metadata": {},
   "source": [
    "# What are the three different types of Boolean operators?"
   ]
  },
  {
   "cell_type": "markdown",
   "id": "fa28d764",
   "metadata": {},
   "source": [
    "And, OR , NOT -> Boolean operators"
   ]
  },
  {
   "cell_type": "code",
   "execution_count": 5,
   "id": "237f84d8",
   "metadata": {},
   "outputs": [
    {
     "name": "stdout",
     "output_type": "stream",
     "text": [
      "False\n",
      "True\n",
      "True\n"
     ]
    }
   ],
   "source": [
    "a=13\n",
    "b=3\n",
    "\n",
    "print(a>17 and b>2)\n",
    "print(a>4  or b>9)\n",
    "print(not (a>20))"
   ]
  },
  {
   "cell_type": "markdown",
   "id": "c42450f0",
   "metadata": {},
   "source": [
    "# Make a list of each Boolean operator's truth tables (i.e. every possible combination of Boolean values for the operator and what it evaluate) ?"
   ]
  },
  {
   "cell_type": "markdown",
   "id": "f6af7fc9",
   "metadata": {},
   "source": [
    " And operaotor:\n",
    "True and True is True\n",
    "\n",
    "True and False is False\n",
    "\n",
    "False and True is False\n",
    "\n",
    "False and False is False\n",
    "\n",
    "\n",
    " Or operaotor:\n",
    "True or True is True\n",
    "\n",
    "True or False is True\n",
    "\n",
    "False or True is True\n",
    "\n",
    "False or False is False\n",
    "\n",
    "\n",
    "Not operaotor:\n",
    "True not is False False not is True"
   ]
  },
  {
   "cell_type": "markdown",
   "id": "bff14421",
   "metadata": {},
   "source": [
    "# What are the values of the following expressions?\n"
   ]
  },
  {
   "cell_type": "code",
   "execution_count": 6,
   "id": "a38a7c2b",
   "metadata": {},
   "outputs": [
    {
     "name": "stdout",
     "output_type": "stream",
     "text": [
      "False\n",
      "False\n",
      "True\n",
      "False\n",
      "False\n",
      "True\n"
     ]
    }
   ],
   "source": [
    "print((5>4)and(3==5))\n",
    "print(not(5>4)) \n",
    "print((5>4)or(3==5)) \n",
    "print(not((5>4)or(3==5))) \n",
    "print((True and True)and(True==False))\n",
    "print((not False)or(not True))"
   ]
  },
  {
   "cell_type": "markdown",
   "id": "79de861a",
   "metadata": {},
   "source": [
    "# What are the six comparison operators?"
   ]
  },
  {
   "cell_type": "markdown",
   "id": "4d12bed9",
   "metadata": {},
   "source": [
    "The Six comparision operators in python:\n",
    "== , != , < , > , <= , =>"
   ]
  },
  {
   "cell_type": "markdown",
   "id": "94a9dd30",
   "metadata": {},
   "source": [
    "# How do you tell the difference between the equal to and assignment operators?Describe a condition and when you would use one."
   ]
  },
  {
   "cell_type": "markdown",
   "id": "e0cd011d",
   "metadata": {},
   "source": [
    "equal operator -> == generally use for the comparision\n",
    "\n",
    "assignment operator  -> =  gernerally store value in variable \n"
   ]
  },
  {
   "cell_type": "code",
   "execution_count": 12,
   "id": "7066c739",
   "metadata": {},
   "outputs": [
    {
     "name": "stdout",
     "output_type": "stream",
     "text": [
      "True\n"
     ]
    }
   ],
   "source": [
    "h=9 \n",
    "\n",
    "#stores 9 value in a variable a\n",
    "\n",
    "if h==9:  \n",
    "    print(h==9)"
   ]
  },
  {
   "cell_type": "markdown",
   "id": "ef1cb48a",
   "metadata": {},
   "source": [
    "# Identify the three blocks in this code:"
   ]
  },
  {
   "cell_type": "code",
   "execution_count": 14,
   "id": "bdf099f9",
   "metadata": {},
   "outputs": [
    {
     "name": "stdout",
     "output_type": "stream",
     "text": [
      "ham\n",
      "spam\n",
      "spam\n"
     ]
    }
   ],
   "source": [
    "spam = 0\n",
    "if spam == 10:\n",
    "     print('eggs')\n",
    "if spam > 5:\n",
    "    print('bacon')\n",
    "else:\n",
    "    print('ham')\n",
    "    print('spam')\n",
    "    print('spam')"
   ]
  },
  {
   "cell_type": "markdown",
   "id": "e166637a",
   "metadata": {},
   "source": [
    "# Write code that prints Hello if 1 is stored in spam, prints Howdy if 2 is stored in spam, and prints  Greetings! if anything else is stored in spam."
   ]
  },
  {
   "cell_type": "code",
   "execution_count": 16,
   "id": "300f81f4",
   "metadata": {},
   "outputs": [
    {
     "name": "stdout",
     "output_type": "stream",
     "text": [
      "Hello\n",
      "Howdy\n",
      "Greetings\n"
     ]
    }
   ],
   "source": [
    "def pam_eve(spam):\n",
    "    \n",
    "    if spam == 1:\n",
    "        print(\"Hello\")\n",
    "    elif spam == 2:\n",
    "        print(\"Howdy\")\n",
    "    else:\n",
    "        print(\"Greetings\")\n",
    "        \n",
    "pam_eve(1)\n",
    "pam_eve(2)\n",
    "pam_eve(7)"
   ]
  },
  {
   "cell_type": "markdown",
   "id": "6498c18b",
   "metadata": {},
   "source": [
    "# If your programme is stuck in an endless loop, what keys you’ll press?"
   ]
  },
  {
   "cell_type": "markdown",
   "id": "4f604bda",
   "metadata": {},
   "source": [
    "Ctrl-c"
   ]
  },
  {
   "cell_type": "markdown",
   "id": "ad6f84d1",
   "metadata": {},
   "source": [
    "#  How can you tell the difference between break and continue?"
   ]
  },
  {
   "cell_type": "markdown",
   "id": "2bea7560",
   "metadata": {},
   "source": [
    " break statement will move the execution outside the loop if break condtion is satisfied. \n",
    "\n",
    " continue statement will move the execution to the start of the loop"
   ]
  },
  {
   "cell_type": "markdown",
   "id": "7098b8fa",
   "metadata": {},
   "source": [
    "#  In a for loop, what is the difference between range(10), range(0, 10), and range(0, 10, 1)?"
   ]
  },
  {
   "cell_type": "markdown",
   "id": "7a02e731",
   "metadata": {},
   "source": [
    "range(10)  -> output is 0 to 9\n",
    "\n",
    "range(0,10) -> output is also 0 to 9\n",
    "\n",
    "range(0,10,1)->  same output starting from 0 with increment of 1 upto 9"
   ]
  },
  {
   "cell_type": "markdown",
   "id": "4c305b5e",
   "metadata": {},
   "source": [
    "# Write a short program that prints the numbers 1 to 10 using a for loop. Then write an equivalent program that prints the numbers 1 to 10 using a while loop ? "
   ]
  },
  {
   "cell_type": "code",
   "execution_count": 17,
   "id": "d1bf985c",
   "metadata": {},
   "outputs": [
    {
     "name": "stdout",
     "output_type": "stream",
     "text": [
      "1\n",
      "2\n",
      "3\n",
      "4\n",
      "5\n",
      "6\n",
      "7\n",
      "8\n",
      "9\n",
      "10\n"
     ]
    }
   ],
   "source": [
    "for i in range(1,11):\n",
    "    print(i)\n"
   ]
  },
  {
   "cell_type": "code",
   "execution_count": 18,
   "id": "cdc63c36",
   "metadata": {},
   "outputs": [
    {
     "name": "stdout",
     "output_type": "stream",
     "text": [
      "1\n",
      "2\n",
      "3\n",
      "4\n",
      "5\n",
      "6\n",
      "7\n",
      "8\n",
      "9\n",
      "10\n"
     ]
    }
   ],
   "source": [
    "i=1\n",
    "while i>0 and i<=10:\n",
    "    print(i)\n",
    "    i = i+1"
   ]
  },
  {
   "cell_type": "markdown",
   "id": "7e2ba9c4",
   "metadata": {},
   "source": [
    "# If you had a function named bacon() inside a module named spam, how would you call it after importing spam?"
   ]
  },
  {
   "cell_type": "markdown",
   "id": "e0f72481",
   "metadata": {},
   "source": [
    "spam.bacon()"
   ]
  }
 ],
 "metadata": {
  "kernelspec": {
   "display_name": "Python 3 (ipykernel)",
   "language": "python",
   "name": "python3"
  },
  "language_info": {
   "codemirror_mode": {
    "name": "ipython",
    "version": 3
   },
   "file_extension": ".py",
   "mimetype": "text/x-python",
   "name": "python",
   "nbconvert_exporter": "python",
   "pygments_lexer": "ipython3",
   "version": "3.9.7"
  }
 },
 "nbformat": 4,
 "nbformat_minor": 5
}
