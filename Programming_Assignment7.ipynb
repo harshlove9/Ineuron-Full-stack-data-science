{
 "cells": [
  {
   "cell_type": "markdown",
   "id": "7ecb3f0f",
   "metadata": {},
   "source": [
    "# 1. Write a Python Program to find sum of array?"
   ]
  },
  {
   "cell_type": "code",
   "execution_count": 3,
   "id": "5626d509",
   "metadata": {},
   "outputs": [
    {
     "name": "stdout",
     "output_type": "stream",
     "text": [
      "Answer to find sum of array is: 21\n"
     ]
    }
   ],
   "source": [
    "arr = [1,2,3,4,5,6]\n",
    "\n",
    "ohoo = 0\n",
    "\n",
    "\n",
    "\n",
    "for i in range(0,len(arr)):\n",
    "    ohoo = ohoo + arr[i]\n",
    "    \n",
    "print(\"Answer to find sum of array is:\",str(ohoo))"
   ]
  },
  {
   "cell_type": "markdown",
   "id": "3bbee886",
   "metadata": {},
   "source": [
    "# 2. Write a Python Program to find largest element in an array?"
   ]
  },
  {
   "cell_type": "code",
   "execution_count": 11,
   "id": "7472a15f",
   "metadata": {},
   "outputs": [
    {
     "name": "stdout",
     "output_type": "stream",
     "text": [
      "Answer to find largest element of array is: 90\n"
     ]
    }
   ],
   "source": [
    "arr = [14,65,47,78,90]\n",
    "\n",
    "ohoo = arr[0];\n",
    "  \n",
    "\n",
    "\n",
    "for i in range(0,len(arr)):\n",
    "    \n",
    "    if (arr[i]> ohoo):\n",
    "         \n",
    "        \n",
    "        ohoo = arr[i]\n",
    "    \n",
    "\n",
    "print(\"Answer to find largest element of array is:\",str(ohoo))"
   ]
  },
  {
   "cell_type": "markdown",
   "id": "d6967ec0",
   "metadata": {},
   "source": [
    "# 3. Write a Python Program for array rotation?"
   ]
  },
  {
   "cell_type": "code",
   "execution_count": 12,
   "id": "c2875670",
   "metadata": {},
   "outputs": [
    {
     "data": {
      "text/plain": [
       "[3, 4, 5, 1, 2]"
      ]
     },
     "execution_count": 12,
     "metadata": {},
     "output_type": "execute_result"
    }
   ],
   "source": [
    "kaka=[1,2,3,4,5]\n",
    "\n",
    "kaka[2:]+kaka[:2]"
   ]
  },
  {
   "cell_type": "code",
   "execution_count": 13,
   "id": "9af85a62",
   "metadata": {},
   "outputs": [
    {
     "data": {
      "text/plain": [
       "[4, 5, 1, 2, 3]"
      ]
     },
     "execution_count": 13,
     "metadata": {},
     "output_type": "execute_result"
    }
   ],
   "source": [
    "ou=[1,2,3,4,5]\n",
    "\n",
    "ou[-2:]+ou[:-2]"
   ]
  },
  {
   "cell_type": "markdown",
   "id": "b78e3555",
   "metadata": {},
   "source": [
    "# 4. Write a Python Program to Split the array and add the first part to the end?"
   ]
  },
  {
   "cell_type": "code",
   "execution_count": 23,
   "id": "e84c51b0",
   "metadata": {},
   "outputs": [
    {
     "name": "stdout",
     "output_type": "stream",
     "text": [
      "Output  is [17, 9, 78, 10, 13, 5]\n"
     ]
    }
   ],
   "source": [
    "def split(arr, k):\n",
    "    arr = arr[k:] + arr[:k]\n",
    "    return arr\n",
    "   \n",
    "k = 3\n",
    "arr = [10, 13, 5, 17, 9, 78]\n",
    "print(\"Output  is\", split(arr, k))"
   ]
  },
  {
   "cell_type": "markdown",
   "id": "69905a3d",
   "metadata": {},
   "source": [
    "# 5. Write a Python Program to check if given array is Monotonic?"
   ]
  },
  {
   "cell_type": "code",
   "execution_count": 26,
   "id": "4cb48d8a",
   "metadata": {},
   "outputs": [
    {
     "name": "stdout",
     "output_type": "stream",
     "text": [
      "False\n"
     ]
    }
   ],
   "source": [
    "def Monu(A):\n",
    "    \n",
    "   return (all(A[i] <= A[i + 1] for i in range(len(A) - 1)) or all(A[i] >= A[i + 1] for i in range(len(A) - 1)))\n",
    "\n",
    "\n",
    "A = [56,78,52,89,42,45]\n",
    "print(Monu(A))"
   ]
  }
 ],
 "metadata": {
  "kernelspec": {
   "display_name": "Python 3 (ipykernel)",
   "language": "python",
   "name": "python3"
  },
  "language_info": {
   "codemirror_mode": {
    "name": "ipython",
    "version": 3
   },
   "file_extension": ".py",
   "mimetype": "text/x-python",
   "name": "python",
   "nbconvert_exporter": "python",
   "pygments_lexer": "ipython3",
   "version": "3.9.7"
  }
 },
 "nbformat": 4,
 "nbformat_minor": 5
}
