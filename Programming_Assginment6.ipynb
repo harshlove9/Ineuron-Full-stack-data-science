{
 "cells": [
  {
   "cell_type": "markdown",
   "id": "6b226d8e",
   "metadata": {},
   "source": [
    "# 1. Write a Python Program to Display Fibonacci Sequence Using Recursion?"
   ]
  },
  {
   "cell_type": "code",
   "execution_count": 3,
   "id": "8e788bf5",
   "metadata": {},
   "outputs": [
    {
     "name": "stdout",
     "output_type": "stream",
     "text": [
      "1 : 1\n",
      "2 : 2\n",
      "3 : 3\n",
      "4 : 5\n",
      "5 : 7\n",
      "6 : 9\n",
      "7 : 11\n",
      "8 : 13\n",
      "9 : 15\n",
      "10 : 17\n"
     ]
    }
   ],
   "source": [
    "def fib(n):\n",
    "    \n",
    "    if n ==1:\n",
    "        return 1\n",
    "    elif n==2:\n",
    "        return 2\n",
    "    elif n>2:\n",
    "        return (n-1) + (n-2)\n",
    "    \n",
    "\n",
    "for n in range(1,11):\n",
    "    print(n,\":\",fib(n))\n",
    "        "
   ]
  },
  {
   "cell_type": "markdown",
   "id": "0ec921e5",
   "metadata": {},
   "source": [
    "# 2. Write a Python Program to Find Factorial of Number Using Recursion?"
   ]
  },
  {
   "cell_type": "code",
   "execution_count": 30,
   "id": "5371fa3f",
   "metadata": {},
   "outputs": [
    {
     "name": "stdout",
     "output_type": "stream",
     "text": [
      "120\n"
     ]
    }
   ],
   "source": [
    "def fact(n):\n",
    "    \n",
    "    if n==1:\n",
    "        return 1\n",
    "    else:\n",
    "        return n * fact(n-1)\n",
    "\n",
    "ohoo = fact(5)\n",
    "print(ohoo)\n",
    "            \n",
    "            "
   ]
  },
  {
   "cell_type": "markdown",
   "id": "4aa5fc38",
   "metadata": {},
   "source": [
    "# 3. Write a Python Program to calculate your Body Mass Index?"
   ]
  },
  {
   "cell_type": "code",
   "execution_count": null,
   "id": "bc1f22ba",
   "metadata": {},
   "outputs": [],
   "source": [
    "height = float(input(\"Enter your height in cm: \"))\n",
    "weight = float(input(\"Enter your weight in kg: \"))\n",
    "\n",
    "\n",
    "BMI = weight / (height/100)**2\n",
    "\n",
    "print(f\"You BMI is {BMI}\")\n",
    "\n",
    "\n",
    "if BMI <= 18.4:\n",
    "    print(\"You are underweight.\")\n",
    "    \n",
    "elif BMI <= 24.9:\n",
    "    print(\"You are healthy.\")\n",
    "    \n",
    "elif BMI <= 29.9:\n",
    "    print(\"You are over weight.\")\n",
    "    \n",
    "elif BMI <= 34.9:\n",
    "    print(\"You are severely over weight.\")\n",
    "    \n",
    "elif BMI <= 39.9:\n",
    "    print(\"You are obese.\")\n",
    "    \n",
    "else:\n",
    "    print(\"You are severely obese.\")"
   ]
  },
  {
   "cell_type": "markdown",
   "id": "594b259e",
   "metadata": {},
   "source": [
    "# 4. Write a Python Program to calculate the natural logarithm of any number?"
   ]
  },
  {
   "cell_type": "code",
   "execution_count": 25,
   "id": "636b1fdd",
   "metadata": {},
   "outputs": [
    {
     "name": "stdout",
     "output_type": "stream",
     "text": [
      "math.log(34.12) is :  3.5298837226234783\n",
      "math.log(10.72) is :  2.372111155642656\n",
      "math.log(math.pi) is :  1.1447298858494002\n"
     ]
    }
   ],
   "source": [
    "import math\n",
    "print (\"math.log(34.12) is : \", math.log(34.12))\n",
    "print (\"math.log(10.72) is : \", math.log(10.72))\n",
    "print (\"math.log(math.pi) is : \", math.log(math.pi))"
   ]
  },
  {
   "cell_type": "markdown",
   "id": "3606e4b1",
   "metadata": {},
   "source": [
    "# 5. Write a Python Program for cube sum of first n natural numbers?"
   ]
  },
  {
   "cell_type": "code",
   "execution_count": 29,
   "id": "91d06dcd",
   "metadata": {},
   "outputs": [
    {
     "name": "stdout",
     "output_type": "stream",
     "text": [
      "9\n"
     ]
    }
   ],
   "source": [
    "def cube(n):\n",
    "    sum = 0\n",
    "    for i in range(1, n+1):\n",
    "        sum +=i*i*i\n",
    "         \n",
    "    return sum\n",
    "\n",
    "harsh = cube(2)\n",
    "print(harsh)\n",
    " "
   ]
  }
 ],
 "metadata": {
  "kernelspec": {
   "display_name": "Python 3 (ipykernel)",
   "language": "python",
   "name": "python3"
  },
  "language_info": {
   "codemirror_mode": {
    "name": "ipython",
    "version": 3
   },
   "file_extension": ".py",
   "mimetype": "text/x-python",
   "name": "python",
   "nbconvert_exporter": "python",
   "pygments_lexer": "ipython3",
   "version": "3.9.7"
  }
 },
 "nbformat": 4,
 "nbformat_minor": 5
}
