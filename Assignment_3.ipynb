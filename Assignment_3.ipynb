{
 "cells": [
  {
   "cell_type": "markdown",
   "id": "812772d2",
   "metadata": {},
   "source": [
    "# 1. Why are functions advantageous to have in your programs?"
   ]
  },
  {
   "cell_type": "markdown",
   "id": "da642f2c",
   "metadata": {},
   "source": [
    "function makes programs shorter, easier to read and update. The main advantage of functions is code Reusability."
   ]
  },
  {
   "cell_type": "markdown",
   "id": "a62811d3",
   "metadata": {},
   "source": [
    "# 2. When does the code in a function run: when it's specified or when it's called?"
   ]
  },
  {
   "cell_type": "markdown",
   "id": "6a44b442",
   "metadata": {},
   "source": [
    "When a function is called and starts executing the function"
   ]
  },
  {
   "cell_type": "markdown",
   "id": "8bc7539b",
   "metadata": {},
   "source": [
    "# 3. What statement creates a function?"
   ]
  },
  {
   "cell_type": "code",
   "execution_count": 1,
   "id": "8b3dc6e5",
   "metadata": {},
   "outputs": [],
   "source": [
    "def function_name(arguments):\n",
    "    return arguments"
   ]
  },
  {
   "cell_type": "markdown",
   "id": "fa665fbc",
   "metadata": {},
   "source": [
    "# 4. What is the difference between a function and a function call?"
   ]
  },
  {
   "cell_type": "markdown",
   "id": "eefe9aec",
   "metadata": {},
   "source": [
    "function means a pre-coded task which will only perform if it is called this is where function call comes into picture to achieve the task."
   ]
  },
  {
   "cell_type": "markdown",
   "id": "dd54ed76",
   "metadata": {},
   "source": [
    "# 5. How many global scopes are there in a Python program? How many local scopes?\n"
   ]
  },
  {
   "cell_type": "markdown",
   "id": "8b9a8594",
   "metadata": {},
   "source": [
    "one global scope and a local scope is created whenever a function is called."
   ]
  },
  {
   "cell_type": "markdown",
   "id": "b985d2e9",
   "metadata": {},
   "source": [
    "# 6. What happens to variables in a local scope when the function call returns?"
   ]
  },
  {
   "cell_type": "markdown",
   "id": "ec277ad4",
   "metadata": {},
   "source": [
    "When a function returns the local scope is destroyed, and all the variables in it are forgot."
   ]
  },
  {
   "cell_type": "markdown",
   "id": "a03fdb9c",
   "metadata": {},
   "source": [
    "# 7. What is the concept of a return value? Is it possible to have a return value in an expression?"
   ]
  },
  {
   "cell_type": "markdown",
   "id": "3446e2f0",
   "metadata": {},
   "source": [
    "It is a special statement in a function used to sent result to call who called function. and, yes it is possible to  return value in an expression."
   ]
  },
  {
   "cell_type": "markdown",
   "id": "d5f65634",
   "metadata": {},
   "source": [
    "# 8. If a function does not have a return statement, what is the return value of a call to that function?"
   ]
  },
  {
   "cell_type": "markdown",
   "id": "34b755c1",
   "metadata": {},
   "source": [
    " If there is no return statement for a function, its return value is None."
   ]
  },
  {
   "cell_type": "markdown",
   "id": "4b2f1f93",
   "metadata": {},
   "source": [
    "# 9. How do you make a function variable refer to the global variable?"
   ]
  },
  {
   "cell_type": "markdown",
   "id": "38e55e65",
   "metadata": {},
   "source": [
    "Global variable is a variable which is not connected to any particular function. To refer a function variable to global variable we use global keyword to declare which variable are global."
   ]
  },
  {
   "cell_type": "markdown",
   "id": "aab88f3d",
   "metadata": {},
   "source": [
    "#  10. What is the data type of None?"
   ]
  },
  {
   "cell_type": "markdown",
   "id": "3fa6960d",
   "metadata": {},
   "source": [
    "NoneType"
   ]
  },
  {
   "cell_type": "markdown",
   "id": "21ea3932",
   "metadata": {},
   "source": [
    "# 11. What does the sentence import areallyourpetsnamederic do?"
   ]
  },
  {
   "cell_type": "markdown",
   "id": "0bce3fb1",
   "metadata": {},
   "source": [
    "it  import areallyourpetnamederic module."
   ]
  },
  {
   "cell_type": "markdown",
   "id": "5353590e",
   "metadata": {},
   "source": [
    "# 12. If you had a bacon() feature in a spam module, what would you call it after importing spam?"
   ]
  },
  {
   "cell_type": "markdown",
   "id": "59b66543",
   "metadata": {},
   "source": [
    "spam.bacon()"
   ]
  },
  {
   "cell_type": "markdown",
   "id": "faac32fa",
   "metadata": {},
   "source": [
    "# 13. What can you do to save a programme from crashing if it encounters an error?"
   ]
  },
  {
   "cell_type": "markdown",
   "id": "7392ee54",
   "metadata": {},
   "source": [
    "Place the line of code that might cause an error in a try block clause and use except block to handle the error."
   ]
  },
  {
   "cell_type": "markdown",
   "id": "81f9ffc3",
   "metadata": {},
   "source": [
    "# 14. What is the purpose of the try clause? What is the purpose of the except clause?"
   ]
  },
  {
   "cell_type": "markdown",
   "id": "6f55163f",
   "metadata": {},
   "source": [
    "The code that could potentially cause an error goes in the try clause. \n",
    "\n",
    "The code that executes if an error happens goes in the except clause"
   ]
  }
 ],
 "metadata": {
  "kernelspec": {
   "display_name": "Python 3 (ipykernel)",
   "language": "python",
   "name": "python3"
  },
  "language_info": {
   "codemirror_mode": {
    "name": "ipython",
    "version": 3
   },
   "file_extension": ".py",
   "mimetype": "text/x-python",
   "name": "python",
   "nbconvert_exporter": "python",
   "pygments_lexer": "ipython3",
   "version": "3.9.7"
  }
 },
 "nbformat": 4,
 "nbformat_minor": 5
}
